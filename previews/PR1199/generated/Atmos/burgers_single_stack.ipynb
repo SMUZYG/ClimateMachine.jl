{
 "cells": [
  {
   "cell_type": "markdown",
   "source": [
    "# Single stack tutorial based on the 3D Burgers + tracer equations"
   ],
   "metadata": {}
  },
  {
   "cell_type": "markdown",
   "source": [
    "Equations solved:"
   ],
   "metadata": {}
  },
  {
   "cell_type": "markdown",
   "source": [
    "``\n",
    "Balance law form:\n",
    "\\frac{∂ ρ}{∂ t} = - ∇ ⋅ (ρu)\n",
    "\\frac{∂ ρu}{∂ t} = - ∇ ⋅ (-μ ∇u) - ∇ ⋅ (ρu u') - γ[ (ρu-ρ̄ū) - (ρu-ρ̄ū)⋅ẑ ẑ]\n",
    "\\frac{∂ ρcT}{∂ t} = - ∇ ⋅ (-α ∇ρcT) - ∇ ⋅ (u ρcT)"
   ],
   "metadata": {}
  },
  {
   "cell_type": "markdown",
   "source": [
    "Boundary conditions:\n",
    "z_min: ρ = 1\n",
    "z_min: ρu = 0\n",
    "z_min: ρcT = T=T_fixed"
   ],
   "metadata": {}
  },
  {
   "cell_type": "markdown",
   "source": [
    "z_max: ρ = 1\n",
    "z_max: ρu = 0\n",
    "z_max: ρcT = no flux"
   ],
   "metadata": {}
  },
  {
   "cell_type": "markdown",
   "source": [
    "``"
   ],
   "metadata": {}
  },
  {
   "cell_type": "markdown",
   "source": [
    "where\n",
    " - `t` is time\n",
    " - `ρ` is the density\n",
    " - `u` is the velocity vector\n",
    " - `μ` is the dynamic viscosity tensor\n",
    " - `γ` is the Rayleigh friction frequency\n",
    " - `T` is the temperature\n",
    " - `α` is the thermal diffusivity\n",
    " - `c` is the heat capacity\n",
    " - `ρcT` is the thermal energy"
   ],
   "metadata": {}
  },
  {
   "cell_type": "markdown",
   "source": [
    "Solving these equations is broken down into the following steps:\n",
    "1) Preliminary configuration\n",
    "2) PDEs\n",
    "3) Space discretization\n",
    "4) Time discretization\n",
    "5) Solver hooks / callbacks\n",
    "6) Solve\n",
    "7) Post-processing"
   ],
   "metadata": {}
  },
  {
   "cell_type": "markdown",
   "source": [
    "# Preliminary configuration"
   ],
   "metadata": {}
  },
  {
   "cell_type": "markdown",
   "source": [
    "## Loading code"
   ],
   "metadata": {}
  },
  {
   "cell_type": "markdown",
   "source": [
    "First, we'll load our pre-requisites\n",
    " - load external packages:"
   ],
   "metadata": {}
  },
  {
   "outputs": [],
   "cell_type": "code",
   "source": [
    "using MPI\n",
    "using Distributions\n",
    "using NCDatasets\n",
    "using OrderedCollections\n",
    "using Plots\n",
    "using StaticArrays\n",
    "using LinearAlgebra: Diagonal"
   ],
   "metadata": {},
   "execution_count": 1
  },
  {
   "cell_type": "markdown",
   "source": [
    " - load CLIMAParameters and set up to use it:"
   ],
   "metadata": {}
  },
  {
   "outputs": [
    {
     "output_type": "execute_result",
     "data": {
      "text/plain": "Main.##382.EarthParameterSet()"
     },
     "metadata": {},
     "execution_count": 2
    }
   ],
   "cell_type": "code",
   "source": [
    "using CLIMAParameters\n",
    "struct EarthParameterSet <: AbstractEarthParameterSet end\n",
    "const param_set = EarthParameterSet()"
   ],
   "metadata": {},
   "execution_count": 2
  },
  {
   "cell_type": "markdown",
   "source": [
    " - load necessary ClimateMachine modules:"
   ],
   "metadata": {}
  },
  {
   "outputs": [],
   "cell_type": "code",
   "source": [
    "using ClimateMachine\n",
    "using ClimateMachine.Mesh.Topologies\n",
    "using ClimateMachine.Mesh.Grids\n",
    "using ClimateMachine.Writers\n",
    "using ClimateMachine.DGMethods\n",
    "using ClimateMachine.DGMethods.NumericalFluxes\n",
    "using ClimateMachine.DGMethods: BalanceLaw, LocalGeometry\n",
    "using ClimateMachine.MPIStateArrays\n",
    "using ClimateMachine.GenericCallbacks\n",
    "using ClimateMachine.ODESolvers\n",
    "using ClimateMachine.VariableTemplates\n",
    "using ClimateMachine.SingleStackUtils"
   ],
   "metadata": {},
   "execution_count": 3
  },
  {
   "cell_type": "markdown",
   "source": [
    " - import necessary ClimateMachine modules: (`import`ing enables us to\n",
    " provide implementations of these structs/methods)"
   ],
   "metadata": {}
  },
  {
   "outputs": [],
   "cell_type": "code",
   "source": [
    "import ClimateMachine.DGMethods:\n",
    "    vars_state_auxiliary,\n",
    "    vars_state_conservative,\n",
    "    vars_state_gradient,\n",
    "    vars_state_gradient_flux,\n",
    "    source!,\n",
    "    flux_second_order!,\n",
    "    flux_first_order!,\n",
    "    compute_gradient_argument!,\n",
    "    compute_gradient_flux!,\n",
    "    update_auxiliary_state!,\n",
    "    nodal_update_auxiliary_state!,\n",
    "    init_state_auxiliary!,\n",
    "    init_state_conservative!,\n",
    "    boundary_state!"
   ],
   "metadata": {},
   "execution_count": 4
  },
  {
   "cell_type": "markdown",
   "source": [
    "## Initialization"
   ],
   "metadata": {}
  },
  {
   "cell_type": "markdown",
   "source": [
    "Define the float type (`Float64` or `Float32`)"
   ],
   "metadata": {}
  },
  {
   "outputs": [],
   "cell_type": "code",
   "source": [
    "FT = Float64;"
   ],
   "metadata": {},
   "execution_count": 5
  },
  {
   "cell_type": "markdown",
   "source": [
    "Initialize ClimateMachine for CPU."
   ],
   "metadata": {}
  },
  {
   "outputs": [],
   "cell_type": "code",
   "source": [
    "ClimateMachine.init(; disable_gpu = true);\n",
    "\n",
    "const clima_dir = dirname(dirname(pathof(ClimateMachine)));"
   ],
   "metadata": {},
   "execution_count": 6
  },
  {
   "cell_type": "markdown",
   "source": [
    "Load some helper functions for plotting"
   ],
   "metadata": {}
  },
  {
   "outputs": [],
   "cell_type": "code",
   "source": [
    "include(joinpath(clima_dir, \"docs\", \"plothelpers.jl\"));"
   ],
   "metadata": {},
   "execution_count": 7
  },
  {
   "cell_type": "markdown",
   "source": [
    "# Define the set of Partial Differential Equations (PDEs)"
   ],
   "metadata": {}
  },
  {
   "cell_type": "markdown",
   "source": [
    "## Define the model"
   ],
   "metadata": {}
  },
  {
   "cell_type": "markdown",
   "source": [
    "Model parameters can be stored in the particular [`BalanceLaw`](@ref\n",
    "ClimateMachine.DGMethods.BalanceLaw), in this case, the `BurgersEquation`:"
   ],
   "metadata": {}
  },
  {
   "outputs": [],
   "cell_type": "code",
   "source": [
    "Base.@kwdef struct BurgersEquation{FT} <: BalanceLaw\n",
    "    \"Parameters\"\n",
    "    param_set::AbstractParameterSet = param_set\n",
    "    \"Heat capacity\"\n",
    "    c::FT = 1\n",
    "    \"Vertical dynamic viscosity\"\n",
    "    μv::FT = 1e-4\n",
    "    \"Horizontal dynamic viscosity\"\n",
    "    μh::FT = 1e-2\n",
    "    \"Thermal diffusivity\"\n",
    "    α::FT = 0.01\n",
    "    \"IC Gaussian noise standard deviation\"\n",
    "    σ::FT = 1e-1\n",
    "    \"Rayleigh damping\"\n",
    "    γ::FT = μh / 0.08 / 1e-2 / 1e-2\n",
    "    \"Domain height\"\n",
    "    zmax::FT = 1\n",
    "    \"Initial conditions for temperature\"\n",
    "    initialT::FT = 295.15\n",
    "    \"Bottom boundary value for temperature (Dirichlet boundary conditions)\"\n",
    "    T_bottom::FT = 300.0\n",
    "    \"Top flux (α∇ρcT) at top boundary (Neumann boundary conditions)\"\n",
    "    flux_top::FT = 0.0\n",
    "end"
   ],
   "metadata": {},
   "execution_count": 8
  },
  {
   "cell_type": "markdown",
   "source": [
    "Create an instance of the `BurgersEquation`:"
   ],
   "metadata": {}
  },
  {
   "outputs": [],
   "cell_type": "code",
   "source": [
    "m = BurgersEquation{FT}();"
   ],
   "metadata": {},
   "execution_count": 9
  },
  {
   "cell_type": "markdown",
   "source": [
    "This model dictates the flow control, using [Dynamic Multiple\n",
    "Dispatch](https://en.wikipedia.org/wiki/Multiple_dispatch), for which\n",
    "kernels are executed."
   ],
   "metadata": {}
  },
  {
   "cell_type": "markdown",
   "source": [
    "## Define the variables"
   ],
   "metadata": {}
  },
  {
   "cell_type": "markdown",
   "source": [
    "All of the methods defined in this section were `import`ed in # [Loading\n",
    "code](@ref) to let us provide implementations for our `BurgersEquation` as they\n",
    "will be used by the solver."
   ],
   "metadata": {}
  },
  {
   "cell_type": "markdown",
   "source": [
    "Specify auxiliary variables for `BurgersEquation`"
   ],
   "metadata": {}
  },
  {
   "outputs": [],
   "cell_type": "code",
   "source": [
    "vars_state_auxiliary(::BurgersEquation, FT) = @vars(z::FT, T::FT);"
   ],
   "metadata": {},
   "execution_count": 10
  },
  {
   "cell_type": "markdown",
   "source": [
    "Specify state variables, the variables solved for in the PDEs, for\n",
    "`BurgersEquation`"
   ],
   "metadata": {}
  },
  {
   "outputs": [],
   "cell_type": "code",
   "source": [
    "vars_state_conservative(::BurgersEquation, FT) =\n",
    "    @vars(ρ::FT, ρu::SVector{3, FT}, ρcT::FT);"
   ],
   "metadata": {},
   "execution_count": 11
  },
  {
   "cell_type": "markdown",
   "source": [
    "Specify state variables whose gradients are needed for `BurgersEquation`"
   ],
   "metadata": {}
  },
  {
   "outputs": [],
   "cell_type": "code",
   "source": [
    "vars_state_gradient(::BurgersEquation, FT) = @vars(u::SVector{3, FT}, ρcT::FT);"
   ],
   "metadata": {},
   "execution_count": 12
  },
  {
   "cell_type": "markdown",
   "source": [
    "Specify gradient variables for `BurgersEquation`"
   ],
   "metadata": {}
  },
  {
   "outputs": [],
   "cell_type": "code",
   "source": [
    "vars_state_gradient_flux(::BurgersEquation, FT) =\n",
    "    @vars(μ∇u::SMatrix{3, 3, FT, 9}, α∇ρcT::SVector{3, FT});"
   ],
   "metadata": {},
   "execution_count": 13
  },
  {
   "cell_type": "markdown",
   "source": [
    "## Define the compute kernels"
   ],
   "metadata": {}
  },
  {
   "cell_type": "markdown",
   "source": [
    "Specify the initial values in `aux::Vars`, which are available in\n",
    "`init_state_conservative!`. Note that\n",
    "- this method is only called at `t=0`\n",
    "- `aux.z` and `aux.T` are available here because we've specified `z` and `T`\n",
    "in `vars_state_auxiliary`"
   ],
   "metadata": {}
  },
  {
   "outputs": [],
   "cell_type": "code",
   "source": [
    "function init_state_auxiliary!(\n",
    "    m::BurgersEquation,\n",
    "    aux::Vars,\n",
    "    geom::LocalGeometry,\n",
    ")\n",
    "    aux.z = geom.coord[3]\n",
    "    aux.T = m.initialT\n",
    "end;"
   ],
   "metadata": {},
   "execution_count": 14
  },
  {
   "cell_type": "markdown",
   "source": [
    "Specify the initial values in `state::Vars`. Note that\n",
    "- this method is only called at `t=0`\n",
    "- `state.ρ`, `state.ρu` and`state.ρcT` are available here because\n",
    "we've specified `ρ`, `ρu` and `ρcT` in `vars_state_conservative`"
   ],
   "metadata": {}
  },
  {
   "outputs": [],
   "cell_type": "code",
   "source": [
    "function init_state_conservative!(\n",
    "    m::BurgersEquation,\n",
    "    state::Vars,\n",
    "    aux::Vars,\n",
    "    coords,\n",
    "    t::Real,\n",
    ")\n",
    "    z = aux.z\n",
    "    ε1 = rand(Normal(0, m.σ))\n",
    "    ε2 = rand(Normal(0, m.σ))\n",
    "    state.ρ = 1\n",
    "    ρu = 1 - 4 * (z - m.zmax / 2)^2 + ε1\n",
    "    ρv = 1 - 4 * (z - m.zmax / 2)^2 + ε2\n",
    "    ρw = 0\n",
    "    state.ρu = SVector(ρu, ρv, ρw)\n",
    "\n",
    "    state.ρcT = state.ρ * m.c * aux.T\n",
    "end;"
   ],
   "metadata": {},
   "execution_count": 15
  },
  {
   "cell_type": "markdown",
   "source": [
    "The remaining methods, defined in this section, are called at every\n",
    "time-step in the solver by the [`BalanceLaw`](@ref\n",
    "ClimateMachine.DGMethods.BalanceLaw) framework."
   ],
   "metadata": {}
  },
  {
   "cell_type": "markdown",
   "source": [
    "Overload `update_auxiliary_state!` to call `heat_eq_nodal_update_aux!`, or\n",
    "any other auxiliary methods"
   ],
   "metadata": {}
  },
  {
   "outputs": [],
   "cell_type": "code",
   "source": [
    "function update_auxiliary_state!(\n",
    "    dg::DGModel,\n",
    "    m::BurgersEquation,\n",
    "    Q::MPIStateArray,\n",
    "    t::Real,\n",
    "    elems::UnitRange,\n",
    ")\n",
    "    nodal_update_auxiliary_state!(heat_eq_nodal_update_aux!, dg, m, Q, t, elems)\n",
    "    return true # TODO: remove return true\n",
    "end;"
   ],
   "metadata": {},
   "execution_count": 16
  },
  {
   "cell_type": "markdown",
   "source": [
    "Compute/update all auxiliary variables at each node. Note that\n",
    "- `aux.T` is available here because we've specified `T` in\n",
    "`vars_state_auxiliary`"
   ],
   "metadata": {}
  },
  {
   "outputs": [],
   "cell_type": "code",
   "source": [
    "function heat_eq_nodal_update_aux!(\n",
    "    m::BurgersEquation,\n",
    "    state::Vars,\n",
    "    aux::Vars,\n",
    "    t::Real,\n",
    ")\n",
    "    aux.T = state.ρcT / (state.ρ * m.c)\n",
    "end;"
   ],
   "metadata": {},
   "execution_count": 17
  },
  {
   "cell_type": "markdown",
   "source": [
    "Since we have second-order fluxes, we must tell `ClimateMachine` to compute\n",
    "the gradient of `ρcT` and `u`. Here, we specify how `ρcT`, `u` are computed. Note that\n",
    "`transform.ρcT` and `transform.u` are available here because we've specified `ρcT`\n",
    "and `u`in `vars_state_gradient`"
   ],
   "metadata": {}
  },
  {
   "outputs": [],
   "cell_type": "code",
   "source": [
    "function compute_gradient_argument!(\n",
    "    m::BurgersEquation,\n",
    "    transform::Vars,\n",
    "    state::Vars,\n",
    "    aux::Vars,\n",
    "    t::Real,\n",
    ")\n",
    "    transform.ρcT = state.ρcT\n",
    "    transform.u = state.ρu / state.ρ\n",
    "end;"
   ],
   "metadata": {},
   "execution_count": 18
  },
  {
   "cell_type": "markdown",
   "source": [
    "Specify where in `diffusive::Vars` to store the computed gradient from\n",
    "`compute_gradient_argument!`. Note that:\n",
    " - `diffusive.μ∇u` is available here because we've specified `μ∇u` in\n",
    " `vars_state_gradient_flux`\n",
    " - `∇transform.u` is available here because we've specified `u` in\n",
    " `vars_state_gradient`\n",
    " - `diffusive.μ∇u` is built using an anisotropic diffusivity tensor"
   ],
   "metadata": {}
  },
  {
   "outputs": [],
   "cell_type": "code",
   "source": [
    "function compute_gradient_flux!(\n",
    "    m::BurgersEquation,\n",
    "    diffusive::Vars,\n",
    "    ∇transform::Grad,\n",
    "    state::Vars,\n",
    "    aux::Vars,\n",
    "    t::Real,\n",
    ")\n",
    "    diffusive.α∇ρcT = m.α * ∇transform.ρcT\n",
    "    diffusive.μ∇u = Diagonal(SVector(m.μh, m.μh, m.μv)) * ∇transform.u\n",
    "end;"
   ],
   "metadata": {},
   "execution_count": 19
  },
  {
   "cell_type": "markdown",
   "source": [
    "Introduce Rayleigh friction towards a target profile as a source.\n",
    "Note that:\n",
    "- Rayleigh damping is only applied in the horizontal by subtracting\n",
    " the vertical component of momentum from the momentum vector."
   ],
   "metadata": {}
  },
  {
   "outputs": [],
   "cell_type": "code",
   "source": [
    "function source!(\n",
    "    m::BurgersEquation{FT},\n",
    "    source::Vars,\n",
    "    state::Vars,\n",
    "    diffusive::Vars,\n",
    "    aux::Vars,\n",
    "    args...,\n",
    ") where {FT}\n",
    "    ẑ = SVector{3, FT}(0, 0, 1)\n",
    "    ρ̄ū =\n",
    "        state.ρ * SVector{3, FT}(\n",
    "            0.5 - 2 * (aux.z - m.zmax / 2)^2,\n",
    "            0.5 - 2 * (aux.z - m.zmax / 2)^2,\n",
    "            0.0,\n",
    "        )\n",
    "    ρu_p = state.ρu - ρ̄ū\n",
    "    source.ρu -= m.γ * (ρu_p - ẑ' * ρu_p * ẑ)\n",
    "end;"
   ],
   "metadata": {},
   "execution_count": 20
  },
  {
   "cell_type": "markdown",
   "source": [
    "Compute advective flux.\n",
    "Note that:\n",
    "- `state.ρu` is available here because we've specified `ρu` in\n",
    "`vars_state_conservative`"
   ],
   "metadata": {}
  },
  {
   "outputs": [],
   "cell_type": "code",
   "source": [
    "function flux_first_order!(\n",
    "    m::BurgersEquation,\n",
    "    flux::Grad,\n",
    "    state::Vars,\n",
    "    aux::Vars,\n",
    "    t::Real,\n",
    ")\n",
    "    flux.ρ = state.ρu\n",
    "\n",
    "    u = state.ρu / state.ρ\n",
    "    flux.ρu = state.ρu * u'\n",
    "    flux.ρcT = u * state.ρcT\n",
    "end;"
   ],
   "metadata": {},
   "execution_count": 21
  },
  {
   "cell_type": "markdown",
   "source": [
    "Compute diffusive flux (e.g. ``F(μ, u, t) = -μ∇u`` in the original PDE).\n",
    "Note that:\n",
    "- `diffusive.μ∇u` is available here because we've specified `μ∇u` in\n",
    "`vars_state_gradient_flux`"
   ],
   "metadata": {}
  },
  {
   "outputs": [],
   "cell_type": "code",
   "source": [
    "function flux_second_order!(\n",
    "    m::BurgersEquation,\n",
    "    flux::Grad,\n",
    "    state::Vars,\n",
    "    diffusive::Vars,\n",
    "    hyperdiffusive::Vars,\n",
    "    aux::Vars,\n",
    "    t::Real,\n",
    ")\n",
    "    flux.ρcT -= diffusive.α∇ρcT\n",
    "    flux.ρu -= diffusive.μ∇u\n",
    "end;"
   ],
   "metadata": {},
   "execution_count": 22
  },
  {
   "cell_type": "markdown",
   "source": [
    "### Boundary conditions"
   ],
   "metadata": {}
  },
  {
   "cell_type": "markdown",
   "source": [
    "Second-order terms in our equations, ``∇⋅(G)`` where ``G = μ∇u``, are\n",
    "internally reformulated to first-order unknowns.\n",
    "Boundary conditions must be specified for all unknowns, both first-order and\n",
    "second-order unknowns which have been reformulated."
   ],
   "metadata": {}
  },
  {
   "cell_type": "markdown",
   "source": [
    "The boundary conditions for `ρ`, `ρu` and `ρcT` (first order unknown)"
   ],
   "metadata": {}
  },
  {
   "outputs": [],
   "cell_type": "code",
   "source": [
    "function boundary_state!(\n",
    "    nf,\n",
    "    m::BurgersEquation,\n",
    "    state⁺::Vars,\n",
    "    aux⁺::Vars,\n",
    "    n⁻,\n",
    "    state⁻::Vars,\n",
    "    aux⁻::Vars,\n",
    "    bctype,\n",
    "    t,\n",
    "    _...,\n",
    ")\n",
    "    if bctype == 1 # bottom\n",
    "        state⁺.ρ = 1\n",
    "        state⁺.ρu = SVector(0, 0, 0)\n",
    "        state⁺.ρcT = state⁺.ρ * m.c * m.T_bottom\n",
    "    elseif bctype == 2 # top\n",
    "        state⁺.ρ = 1\n",
    "        state⁺.ρu = SVector(0, 0, 0)\n",
    "    end\n",
    "end;"
   ],
   "metadata": {},
   "execution_count": 23
  },
  {
   "cell_type": "markdown",
   "source": [
    "The boundary conditions for `ρ`, `ρu` and `ρcT` are specified here for\n",
    "second-order unknowns"
   ],
   "metadata": {}
  },
  {
   "outputs": [],
   "cell_type": "code",
   "source": [
    "function boundary_state!(\n",
    "    nf,\n",
    "    m::BurgersEquation,\n",
    "    state⁺::Vars,\n",
    "    diff⁺::Vars,\n",
    "    aux⁺::Vars,\n",
    "    n⁻,\n",
    "    state⁻::Vars,\n",
    "    diff⁻::Vars,\n",
    "    aux⁻::Vars,\n",
    "    bctype,\n",
    "    t,\n",
    "    _...,\n",
    ")\n",
    "    if bctype == 1 # bottom\n",
    "        state⁺.ρ = 1\n",
    "        state⁺.ρu = SVector(0, 0, 0)\n",
    "        state⁺.ρcT = state⁺.ρ * m.c * m.T_bottom\n",
    "    elseif bctype == 2 # top\n",
    "        state⁺.ρ = 1\n",
    "        state⁺.ρu = SVector(0, 0, 0)\n",
    "        diff⁺.α∇ρcT = -n⁻ * m.flux_top\n",
    "    end\n",
    "end;"
   ],
   "metadata": {},
   "execution_count": 24
  },
  {
   "cell_type": "markdown",
   "source": [
    "# Spatial discretization"
   ],
   "metadata": {}
  },
  {
   "cell_type": "markdown",
   "source": [
    "Prescribe polynomial order of basis functions in finite elements"
   ],
   "metadata": {}
  },
  {
   "outputs": [],
   "cell_type": "code",
   "source": [
    "N_poly = 5;"
   ],
   "metadata": {},
   "execution_count": 25
  },
  {
   "cell_type": "markdown",
   "source": [
    "Specify the number of vertical elements"
   ],
   "metadata": {}
  },
  {
   "outputs": [],
   "cell_type": "code",
   "source": [
    "nelem_vert = 20;"
   ],
   "metadata": {},
   "execution_count": 26
  },
  {
   "cell_type": "markdown",
   "source": [
    "Specify the domain height"
   ],
   "metadata": {}
  },
  {
   "outputs": [],
   "cell_type": "code",
   "source": [
    "zmax = m.zmax;"
   ],
   "metadata": {},
   "execution_count": 27
  },
  {
   "cell_type": "markdown",
   "source": [
    "Establish a `ClimateMachine` single stack configuration"
   ],
   "metadata": {}
  },
  {
   "outputs": [
    {
     "name": "stdout",
     "output_type": "stream",
     "text": [
      "┌ Info: Model composition\n",
      "│     param_set = Main.##382.EarthParameterSet()\n",
      "│     c = 1.0\n",
      "│     μv = 0.0001\n",
      "│     μh = 0.01\n",
      "│     α = 0.01\n",
      "│     σ = 0.1\n",
      "│     γ = 1250.0\n",
      "│     zmax = 1.0\n",
      "│     initialT = 295.15\n",
      "│     T_bottom = 300.0\n",
      "│     flux_top = 0.0\n",
      "└ @ ClimateMachine /home/runner/work/ClimateMachine.jl/ClimateMachine.jl/src/Driver/driver_configs.jl:99\n",
      "┌ Info: Establishing single stack configuration for BurgersEquation\n",
      "│     precision        = Float64\n",
      "│     polynomial order = 5\n",
      "│     domain_min       = 0.00 m x0.00 m x0.00 m\n",
      "│     domain_max       = 1.00 m x1.00 m x1.00 m\n",
      "│     #vert elems      = 20\n",
      "│     MPI ranks        = 1\n",
      "│     min(Δ_horz)      = 0.12 m\n",
      "│     min(Δ_vert)      = 0.01 m\n",
      "└ @ ClimateMachine /home/runner/work/ClimateMachine.jl/ClimateMachine.jl/src/Driver/driver_configs.jl:373\n"
     ]
    }
   ],
   "cell_type": "code",
   "source": [
    "driver_config = ClimateMachine.SingleStackConfiguration(\n",
    "    \"BurgersEquation\",\n",
    "    N_poly,\n",
    "    nelem_vert,\n",
    "    zmax,\n",
    "    param_set,\n",
    "    m,\n",
    "    numerical_flux_first_order = CentralNumericalFluxFirstOrder(),\n",
    ");"
   ],
   "metadata": {},
   "execution_count": 28
  },
  {
   "cell_type": "markdown",
   "source": [
    "# Time discretization"
   ],
   "metadata": {}
  },
  {
   "cell_type": "markdown",
   "source": [
    "Specify simulation time (SI units)"
   ],
   "metadata": {}
  },
  {
   "outputs": [
    {
     "output_type": "execute_result",
     "data": {
      "text/plain": "10.0"
     },
     "metadata": {},
     "execution_count": 29
    }
   ],
   "cell_type": "code",
   "source": [
    "t0 = FT(0)\n",
    "timeend = FT(10)"
   ],
   "metadata": {},
   "execution_count": 29
  },
  {
   "cell_type": "markdown",
   "source": [
    "We'll define the time-step based on the [Fourier\n",
    "number] and the [Courant number] of the flow"
   ],
   "metadata": {}
  },
  {
   "outputs": [
    {
     "output_type": "execute_result",
     "data": {
      "text/plain": "0.0002759950040694205"
     },
     "metadata": {},
     "execution_count": 30
    }
   ],
   "cell_type": "code",
   "source": [
    "Δ = min_node_distance(driver_config.grid)\n",
    "\n",
    "given_Fourier = FT(0.08);\n",
    "Fourier_bound = given_Fourier * Δ^2 / max(m.α, m.μh);\n",
    "Courant_bound = FT(0.1) * Δ\n",
    "dt = min(Fourier_bound, Courant_bound)"
   ],
   "metadata": {},
   "execution_count": 30
  },
  {
   "cell_type": "markdown",
   "source": [
    "# Configure a `ClimateMachine` solver."
   ],
   "metadata": {}
  },
  {
   "cell_type": "markdown",
   "source": [
    "This initializes the state vector and allocates memory for the solution in\n",
    "space (`dg` has the model `m`, which describes the PDEs as well as the\n",
    "function used for initialization). This additionally initializes the ODE\n",
    "solver, by default an explicit Low-Storage\n",
    "[Runge-Kutta](https://en.wikipedia.org/wiki/Runge%E2%80%93Kutta_methods)\n",
    "method."
   ],
   "metadata": {}
  },
  {
   "outputs": [
    {
     "name": "stdout",
     "output_type": "stream",
     "text": [
      "┌ Info: Initializing BurgersEquation\n",
      "└ @ ClimateMachine /home/runner/work/ClimateMachine.jl/ClimateMachine.jl/src/Driver/solver_configs.jl:134\n"
     ]
    }
   ],
   "cell_type": "code",
   "source": [
    "solver_config =\n",
    "    ClimateMachine.SolverConfiguration(t0, timeend, driver_config, ode_dt = dt);"
   ],
   "metadata": {},
   "execution_count": 31
  },
  {
   "cell_type": "markdown",
   "source": [
    "## Inspect the initial conditions for a single node (e.g. the southwest node)"
   ],
   "metadata": {}
  },
  {
   "cell_type": "markdown",
   "source": [
    "Let's export a plot of the initial state"
   ],
   "metadata": {}
  },
  {
   "outputs": [],
   "cell_type": "code",
   "source": [
    "output_dir = @__DIR__;\n",
    "\n",
    "mkpath(output_dir);\n",
    "\n",
    "z_scale = 100 # convert from meters to cm\n",
    "z_key = \"z\"\n",
    "z_label = \"z [cm]\"\n",
    "z = get_z(driver_config.grid, z_scale)\n",
    "state_vars = get_vars_from_nodal_stack(\n",
    "    driver_config.grid,\n",
    "    solver_config.Q,\n",
    "    vars_state_conservative(m, FT),\n",
    "    i = 1,\n",
    "    j = 1,\n",
    ");\n",
    "aux_vars = get_vars_from_nodal_stack(\n",
    "    driver_config.grid,\n",
    "    solver_config.dg.state_auxiliary,\n",
    "    vars_state_auxiliary(m, FT),\n",
    "    i = 1,\n",
    "    j = 1,\n",
    "    exclude = [z_key],\n",
    ");\n",
    "all_vars = OrderedDict(state_vars..., aux_vars...);"
   ],
   "metadata": {},
   "execution_count": 32
  },
  {
   "cell_type": "markdown",
   "source": [
    "Generate plots of initial conditions"
   ],
   "metadata": {}
  },
  {
   "outputs": [],
   "cell_type": "code",
   "source": [
    "export_plot_snapshot(\n",
    "    z,\n",
    "    all_vars,\n",
    "    (\"ρcT\",),\n",
    "    joinpath(output_dir, \"initial_condition_T.png\"),\n",
    "    z_label,\n",
    ");\n",
    "export_plot_snapshot(\n",
    "    z,\n",
    "    all_vars,\n",
    "    (\"ρu[1]\",),\n",
    "    joinpath(output_dir, \"initial_condition_u.png\"),\n",
    "    z_label,\n",
    ");\n",
    "export_plot_snapshot(\n",
    "    z,\n",
    "    all_vars,\n",
    "    (\"ρu[2]\",),\n",
    "    joinpath(output_dir, \"initial_condition_v.png\"),\n",
    "    z_label,\n",
    ");"
   ],
   "metadata": {},
   "execution_count": 33
  },
  {
   "cell_type": "markdown",
   "source": [
    "## Inspect the initial conditions for the horizontal average"
   ],
   "metadata": {}
  },
  {
   "cell_type": "markdown",
   "source": [
    "Horizontal statistics of variables"
   ],
   "metadata": {}
  },
  {
   "outputs": [],
   "cell_type": "code",
   "source": [
    "state_vars_var = get_horizontal_variance(\n",
    "    driver_config.grid,\n",
    "    solver_config.Q,\n",
    "    vars_state_conservative(m, FT),\n",
    ");\n",
    "\n",
    "state_vars_avg = get_horizontal_mean(\n",
    "    driver_config.grid,\n",
    "    solver_config.Q,\n",
    "    vars_state_conservative(m, FT),\n",
    ");\n",
    "\n",
    "export_plot_snapshot(\n",
    "    z,\n",
    "    state_vars_avg,\n",
    "    (\"ρu[1]\",),\n",
    "    joinpath(output_dir, \"initial_condition_avg_u.png\"),\n",
    "    z_label,\n",
    ");\n",
    "export_plot_snapshot(\n",
    "    z,\n",
    "    state_vars_var,\n",
    "    (\"ρu[1]\",),\n",
    "    joinpath(output_dir, \"initial_condition_variance_u.png\"),\n",
    "    z_label,\n",
    ");"
   ],
   "metadata": {},
   "execution_count": 34
  },
  {
   "cell_type": "markdown",
   "source": [
    "![](initial_condition_avg_u.png)\n",
    "![](initial_condition_variance_u.png)"
   ],
   "metadata": {}
  },
  {
   "cell_type": "markdown",
   "source": [
    "# Solver hooks / callbacks"
   ],
   "metadata": {}
  },
  {
   "cell_type": "markdown",
   "source": [
    "Define the number of outputs from `t0` to `timeend`"
   ],
   "metadata": {}
  },
  {
   "outputs": [],
   "cell_type": "code",
   "source": [
    "const n_outputs = 5;"
   ],
   "metadata": {},
   "execution_count": 35
  },
  {
   "cell_type": "markdown",
   "source": [
    "This equates to exports every ceil(Int, timeend/n_outputs) time-step:"
   ],
   "metadata": {}
  },
  {
   "outputs": [],
   "cell_type": "code",
   "source": [
    "const every_x_simulation_time = ceil(Int, timeend / n_outputs);"
   ],
   "metadata": {},
   "execution_count": 36
  },
  {
   "cell_type": "markdown",
   "source": [
    "Create a dictionary for `z` coordinate (and convert to cm) NCDatasets IO:"
   ],
   "metadata": {}
  },
  {
   "outputs": [
    {
     "output_type": "execute_result",
     "data": {
      "text/plain": "OrderedCollections.OrderedDict{Any,Any} with 5 entries:\n  \"ρ\"     => [1.0, 1.0, 1.0, 1.0, 1.0, 1.0, 1.0, 1.0, 1.0, 1.0  …  1.0, 1.0, 1.…\n  \"ρu[1]\" => [-0.00760197, -0.00216654, 0.114063, 0.110296, 0.160299, 0.183294,…\n  \"ρu[2]\" => [0.0120081, 0.0392835, 0.0590252, 0.141768, 0.186054, 0.189641, 0.…\n  \"ρu[3]\" => [0.0, 0.0, 0.0, 0.0, 0.0, 0.0, 0.0, 0.0, 0.0, 0.0  …  0.0, 0.0, 0.…\n  \"ρcT\"   => [295.15, 295.15, 295.15, 295.15, 295.15, 295.15, 295.15, 295.15, 2…"
     },
     "metadata": {},
     "execution_count": 37
    }
   ],
   "cell_type": "code",
   "source": [
    "dims = OrderedDict(z_key => collect(z));\n",
    "\n",
    "data_var = Dict([k => Dict() for k in 0:n_outputs]...)\n",
    "data_var[0] = deepcopy(state_vars_var)\n",
    "\n",
    "data_avg = Dict([k => Dict() for k in 0:n_outputs]...)\n",
    "data_avg[0] = deepcopy(state_vars_avg)"
   ],
   "metadata": {},
   "execution_count": 37
  },
  {
   "cell_type": "markdown",
   "source": [
    "The `ClimateMachine`'s time-steppers provide hooks, or callbacks, which\n",
    "allow users to inject code to be executed at specified intervals. In this\n",
    "callback, the state and aux variables are collected, combined into a single\n",
    "`OrderedDict` and written to a NetCDF file (for each output step `step`)."
   ],
   "metadata": {}
  },
  {
   "outputs": [],
   "cell_type": "code",
   "source": [
    "step = [0];\n",
    "callback = GenericCallbacks.EveryXSimulationTime(\n",
    "    every_x_simulation_time,\n",
    "    solver_config.solver,\n",
    ") do (init = false)\n",
    "    state_vars_var = get_horizontal_variance(\n",
    "        driver_config.grid,\n",
    "        solver_config.Q,\n",
    "        vars_state_conservative(m, FT),\n",
    "    )\n",
    "    state_vars_avg = get_horizontal_mean(\n",
    "        driver_config.grid,\n",
    "        solver_config.Q,\n",
    "        vars_state_conservative(m, FT),\n",
    "    )\n",
    "    step[1] += 1\n",
    "    data_var[step[1]] = deepcopy(state_vars_var)\n",
    "    data_avg[step[1]] = deepcopy(state_vars_avg)\n",
    "    nothing\n",
    "end;"
   ],
   "metadata": {},
   "execution_count": 38
  },
  {
   "cell_type": "markdown",
   "source": [
    "# Solve"
   ],
   "metadata": {}
  },
  {
   "cell_type": "markdown",
   "source": [
    "This is the main `ClimateMachine` solver invocation. While users do not have\n",
    "access to the time-stepping loop, code may be injected via `user_callbacks`,\n",
    "which is a `Tuple` of `GenericCallbacks`."
   ],
   "metadata": {}
  },
  {
   "outputs": [
    {
     "name": "stdout",
     "output_type": "stream",
     "text": [
      "┌ Info: Starting BurgersEquation\n",
      "│     dt              = 2.75991e-04\n",
      "│     timeend         =    10.00\n",
      "│     number of steps = 36233\n",
      "│     norm(Q)         = 2.9515353369405119e+02\n",
      "└ @ ClimateMachine /home/runner/work/ClimateMachine.jl/ClimateMachine.jl/src/Driver/Driver.jl:570\n",
      "┌ Info: Update\n",
      "│     simtime =     1.41 /    10.00\n",
      "│     runtime = 00:00:59\n",
      "│     norm(Q) = 2.9580433357274126e+02\n",
      "└ @ ClimateMachine.Callbacks /home/runner/work/ClimateMachine.jl/ClimateMachine.jl/src/Utilities/Callbacks/Callbacks.jl:53\n",
      "┌ Info: Update\n",
      "│     simtime =     3.42 /    10.00\n",
      "│     runtime = 00:01:59\n",
      "│     norm(Q) = 2.9616767181103501e+02\n",
      "└ @ ClimateMachine.Callbacks /home/runner/work/ClimateMachine.jl/ClimateMachine.jl/src/Utilities/Callbacks/Callbacks.jl:53\n",
      "┌ Info: Update\n",
      "│     simtime =     5.49 /    10.00\n",
      "│     runtime = 00:02:59\n",
      "│     norm(Q) = 2.9643830685270041e+02\n",
      "└ @ ClimateMachine.Callbacks /home/runner/work/ClimateMachine.jl/ClimateMachine.jl/src/Utilities/Callbacks/Callbacks.jl:53\n",
      "┌ Info: Update\n",
      "│     simtime =     7.57 /    10.00\n",
      "│     runtime = 00:03:59\n",
      "│     norm(Q) = 2.9666093596520648e+02\n",
      "└ @ ClimateMachine.Callbacks /home/runner/work/ClimateMachine.jl/ClimateMachine.jl/src/Utilities/Callbacks/Callbacks.jl:53\n",
      "┌ Info: Update\n",
      "│     simtime =     9.63 /    10.00\n",
      "│     runtime = 00:04:59\n",
      "│     norm(Q) = 2.9685390681362259e+02\n",
      "└ @ ClimateMachine.Callbacks /home/runner/work/ClimateMachine.jl/ClimateMachine.jl/src/Utilities/Callbacks/Callbacks.jl:53\n",
      "┌ Info: Finished\n",
      "│     norm(Q)            = 2.9688600846628111e+02\n",
      "│     norm(Q) / norm(Q₀) = 1.0058697409126254e+00\n",
      "│     norm(Q) - norm(Q₀) = 1.7324747722299207e+00\n",
      "└ @ ClimateMachine /home/runner/work/ClimateMachine.jl/ClimateMachine.jl/src/Driver/Driver.jl:618\n"
     ]
    },
    {
     "output_type": "execute_result",
     "data": {
      "text/plain": "1.0058697409126254"
     },
     "metadata": {},
     "execution_count": 39
    }
   ],
   "cell_type": "code",
   "source": [
    "ClimateMachine.invoke!(solver_config; user_callbacks = (callback,))"
   ],
   "metadata": {},
   "execution_count": 39
  },
  {
   "cell_type": "markdown",
   "source": [
    "# Post-processing"
   ],
   "metadata": {}
  },
  {
   "cell_type": "markdown",
   "source": [
    "Our solution has now been calculated and exported to NetCDF files in\n",
    "`output_dir`."
   ],
   "metadata": {}
  },
  {
   "cell_type": "markdown",
   "source": [
    "Let's plot the horizontal statistics of the solution:"
   ],
   "metadata": {}
  },
  {
   "outputs": [],
   "cell_type": "code",
   "source": [
    "export_plot(\n",
    "    z,\n",
    "    data_avg,\n",
    "    (\"ρu[1]\"),\n",
    "    joinpath(output_dir, \"solution_vs_time_u.png\"),\n",
    "    z_label,\n",
    "    xlabel = \"Horizontal mean rho*u\",\n",
    ");\n",
    "export_plot(\n",
    "    z,\n",
    "    data_var,\n",
    "    (\"ρu[1]\"),\n",
    "    joinpath(output_dir, \"variance_vs_time_u.png\"),\n",
    "    z_label,\n",
    "    xlabel = \"Horizontal variance rho*u\",\n",
    ");\n",
    "export_plot(\n",
    "    z,\n",
    "    data_avg,\n",
    "    (\"ρcT\"),\n",
    "    joinpath(output_dir, \"solution_vs_time_T.png\"),\n",
    "    z_label,\n",
    "    xlabel = \"Horizontal mean rho*c*T\",\n",
    ");\n",
    "export_plot(\n",
    "    z,\n",
    "    data_var,\n",
    "    (\"ρu[3]\"),\n",
    "    joinpath(output_dir, \"variance_vs_time_w.png\"),\n",
    "    z_label,\n",
    "    xlabel = \"Horizontal variance rho*w\",\n",
    ");"
   ],
   "metadata": {},
   "execution_count": 40
  },
  {
   "cell_type": "markdown",
   "source": [
    "![](solution_vs_time_u.png)\n",
    "![](variance_vs_time_u.png)"
   ],
   "metadata": {}
  },
  {
   "cell_type": "markdown",
   "source": [
    "The results look as we would expect: they Rayleigh friction damps the\n",
    "horizontal velocity to the objective profile and the horizontal\n",
    "diffusivity damps the horizontal variance. To run this file, and\n",
    "inspect the solution, include this tutorial in the Julia REPL\n",
    "with:"
   ],
   "metadata": {}
  },
  {
   "cell_type": "markdown",
   "source": [
    "```julia\n",
    "include(joinpath(\"tutorials\", \"Atmos\", \"burgers_single_stack.jl\"))\n",
    "```"
   ],
   "metadata": {}
  },
  {
   "cell_type": "markdown",
   "source": [
    "---\n",
    "\n",
    "*This notebook was generated using [Literate.jl](https://github.com/fredrikekre/Literate.jl).*"
   ],
   "metadata": {}
  }
 ],
 "nbformat_minor": 3,
 "metadata": {
  "language_info": {
   "file_extension": ".jl",
   "mimetype": "application/julia",
   "name": "julia",
   "version": "1.4.2"
  },
  "kernelspec": {
   "name": "julia-1.4",
   "display_name": "Julia 1.4.2",
   "language": "julia"
  }
 },
 "nbformat": 4
}
